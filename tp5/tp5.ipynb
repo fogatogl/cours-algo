{
 "cells": [
  {
   "cell_type": "code",
   "execution_count": 1,
   "id": "fed284d3-57ac-47ee-b3e6-63fce609c458",
   "metadata": {},
   "outputs": [
    {
     "name": "stdout",
     "output_type": "stream",
     "text": [
      "DEP,REG,CHEFLIEU,TNCC,NCC,NCCENR,LIBELLE\n",
      "01,84,01053,5,AIN,Ain,Ain\n",
      "02,32,02408,5,AISNE,Aisne,Aisne\n",
      "03,84,03190,5,ALLIER,Allier,Allier\n",
      "04,93,04070,4,ALPES DE HAUTE PROVENCE,Alpes-de-Haute-Provence,Alpes-de-Haute-Provence\n"
     ]
    }
   ],
   "source": [
    "!head -n 5 departement2021.csv\n"
   ]
  },
  {
   "cell_type": "code",
   "execution_count": null,
   "id": "378190f4-4efa-4ee1-aa42-d1f8fd77d035",
   "metadata": {},
   "outputs": [],
   "source": [
    "import csv\n",
    "\n",
    "with open(\"departement2021.csv\") as file:\n",
    "    csv_reader = csv.reader(file)\n",
    "    for rovv in csv_reader:\n",
    "        \n"
   ]
  }
 ],
 "metadata": {
  "kernelspec": {
   "display_name": "Python 3 (ipykernel)",
   "language": "python",
   "name": "python3"
  },
  "language_info": {
   "codemirror_mode": {
    "name": "ipython",
    "version": 3
   },
   "file_extension": ".py",
   "mimetype": "text/x-python",
   "name": "python",
   "nbconvert_exporter": "python",
   "pygments_lexer": "ipython3",
   "version": "3.13.7"
  }
 },
 "nbformat": 4,
 "nbformat_minor": 5
}
