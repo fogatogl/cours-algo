{
 "cells": [
  {
   "cell_type": "markdown",
   "id": "234b5028-cfc9-41cf-a96a-8f095db37170",
   "metadata": {},
   "source": [
    "#TRIS\n"
   ]
  },
  {
   "cell_type": "code",
   "execution_count": null,
   "id": "7c6aebd1-5451-465b-b4e3-79e5285dcc05",
   "metadata": {},
   "outputs": [],
   "source": [
    "#tri par séléction\n",
    "\n",
    "\"\"\"\n",
    "on calcule le min et on le met au début + boucle\n",
    "\"\"\"\n",
    "\n",
    "def tri_selection(l):\n",
    "    trie = []\n",
    "    while l != []:\n",
    "        mini = l[0]\n",
    "        for x in l:\n",
    "            if x < mini:\n",
    "                mini = x\n",
    "        l.remove(mini)\n",
    "        trie.append(mini)\n",
    "    return trie\n",
    " \n",
    "    "
   ]
  },
  {
   "cell_type": "code",
   "execution_count": null,
   "id": "42117d1a-2e1d-43ec-bd99-17dbf472bef3",
   "metadata": {},
   "outputs": [],
   "source": [
    "#tri insertion\n",
    "\n",
    "\"\"\"\n",
    "on regarde l := x::y::xs \n",
    "            si x < y alors on insere xs à x::y déjà triée\n",
    "            sinon on swap x, y on insere xs à y::x déjà triée\n",
    "\n",
    "\"\"\"\n",
    "\n",
    "def insere(x, l):\n",
    "    for i in range(len(l)):\n",
    "        if x<l[i]:\n",
    "            l = l[:i]+[x]+[l[i:]\n",
    "            break\n",
    "\n",
    "\n",
    "def tri_swap(l):\n",
    "    if len(l) == O or len(l) == 1:\n",
    "        return l\n",
    "    else:\n",
    "        if l[0] < l[1]:\n",
    "            trie = [l[0], l[1]]\n",
    "            for i in range(2,len(l)):\n",
    "                insere(l[i], trie)\n",
    "        else:\n",
    "            trie = [l[1], l[0]]\n",
    "            for i in range(2,len(l)):\n",
    "                insere(l[i], trie)\n",
    "        return trie\n"
   ]
  },
  {
   "cell_type": "code",
   "execution_count": null,
   "id": "3a66163d-fa90-45e5-98ad-a9bc27a2ff57",
   "metadata": {},
   "outputs": [],
   "source": [
    "#tri fusion\n",
    "\n",
    "\n",
    "\"\"\"\n",
    "on coupe la liste en morceaux petits, on les tries puis on fusionne le tout\n",
    "\"\"\"\n",
    "\n",
    "\n",
    "def separe(l):\n",
    "    if len(l) == 0 or 1:\n",
    "        return l, []\n",
    "    elif len(l) ==2:\n",
    "        if l[0] < l[1]:\n",
    "            return l\n",
    "        else:\n",
    "            return l[1], l[0]\n",
    "    else:\n",
    "        x = l[0]\n",
    "        y = l[1]\n",
    "        n, m = separe(l)\n",
    "        return separe(n), separe(m)\n",
    "     \n",
    "\n",
    "\n",
    "def fus(u,v):\n",
    "    fusionne = []\n",
    "    if u == []:\n",
    "        fusionne += v\n",
    "        return fusionne\n",
    "    elif v == []:\n",
    "        fuusionne += u\n",
    "        return fusionne\n",
    "    else:\n",
    "        if u[0] < v[0]:\n",
    "            fusionne.append(u[0])\n",
    "            fusionne.pop(u[0])\n",
    "            fus(u,v)\n",
    "        else:\n",
    "            fusionne.append(v[0])\n",
    "            fusionne.pop(v[0])\n",
    "            fus(u,v)\n",
    "            \n",
    "            \n",
    "def tri_fusion(l):\n",
    "    \n",
    "    "
   ]
  },
  {
   "cell_type": "code",
   "execution_count": null,
   "id": "3f4fbd98-601c-454c-b044-d82e2ce56f78",
   "metadata": {},
   "outputs": [],
   "source": []
  },
  {
   "cell_type": "markdown",
   "id": "f7f64502-6dfe-4aec-8de5-d3416baa1b32",
   "metadata": {},
   "source": [
    "blabla"
   ]
  },
  {
   "cell_type": "code",
   "execution_count": null,
   "id": "7b6ab5d2-1e55-454b-9f4c-8929ffb615f6",
   "metadata": {},
   "outputs": [],
   "source": []
  }
 ],
 "metadata": {
  "kernelspec": {
   "display_name": "Python 3 (ipykernel)",
   "language": "python",
   "name": "python3"
  },
  "language_info": {
   "codemirror_mode": {
    "name": "ipython",
    "version": 3
   },
   "file_extension": ".py",
   "mimetype": "text/x-python",
   "name": "python",
   "nbconvert_exporter": "python",
   "pygments_lexer": "ipython3",
   "version": "3.13.7"
  }
 },
 "nbformat": 4,
 "nbformat_minor": 5
}
