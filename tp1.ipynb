{
 "cells": [
  {
   "cell_type": "code",
   "execution_count": null,
   "id": "4fe5a767-e3b5-4daa-8388-666669a1f37c",
   "metadata": {},
   "outputs": [],
   "source": [
    "#exo1\n",
    "def fact(n):\n",
    "    if n==0:\n",
    "        return 1\n",
    "    else:\n",
    "        return n*fact(n-1)\n",
    "\n",
    "\n",
    "def fact2(n):\n",
    "    L = [1]\n",
    "    if n == 0:\n",
    "        return L[0]\n",
    "    else:\n",
    "        L.append(L[n-1]*n)\n",
    "        return L[n]\n",
    "\n",
    "      "
   ]
  },
  {
   "cell_type": "code",
   "execution_count": 7,
   "id": "0f953b75-b412-4b4a-8694-5e342a3a72be",
   "metadata": {},
   "outputs": [
    {
     "name": "stdout",
     "output_type": "stream",
     "text": [
      "3\n"
     ]
    }
   ],
   "source": [
    "#exo2\n",
    "\n",
    "from math import sqrt\n",
    "\n",
    "\n",
    "def carre_parf(n):\n",
    "    for i in range(int(sqrt(n))+1):\n",
    "        if i*i == n:\n",
    "            return True\n",
    "    return False\n",
    "\n",
    "\n",
    "def nbre_carre_parf(a,b):\n",
    "    i = 0\n",
    "    for n in range(a, b+1):\n",
    "        if carre_parf(n):\n",
    "            i += 1\n",
    "    return i\n",
    "\n",
    "print(nbre_carre_parf(1, 9))\n"
   ]
  },
  {
   "cell_type": "code",
   "execution_count": null,
   "id": "07c386e3-fdc9-47ce-8104-cba7aa216ee5",
   "metadata": {},
   "outputs": [],
   "source": [
    "#exo3\n",
    "\n",
    "def extrait_y(L):\n",
    "    u = []\n",
    "    for x in L:\n",
    "        if type(x) == \"string\":\n",
    "            if x[1] == \"y\":\n",
    "                u.append(x)\n",
    "    return u\n",
    "\n"
   ]
  },
  {
   "cell_type": "code",
   "execution_count": 23,
   "id": "e92babc0-43e6-4912-a6e3-e6bdf0397204",
   "metadata": {},
   "outputs": [
    {
     "name": "stdout",
     "output_type": "stream",
     "text": [
      "yezye\n"
     ]
    }
   ],
   "source": [
    "#exo4\n",
    "\n",
    "\n",
    "\"\"\" \n",
    "pour lettre position i dans le message:\n",
    "    renvoie j: position alphabet de lettre i dans le message\n",
    "    renvoie k: position alphabet cle répété\n",
    "    calcule position l lettre encodée\n",
    "    ajoute lettre encodée au message final\n",
    "\"\"\"\n",
    "\n",
    "def vigenere(cle, message):\n",
    "    alf = \"abcdefghijklmnopqrstuvwxyz\"\n",
    "    n = len(cle)\n",
    "    sortie = \"\"\n",
    "    for i in range(len(message)): \n",
    "        i_mod = i % n\n",
    "        val_mes_i = 0\n",
    "        val_cle_i = 0        \n",
    "        for j in range(len(alf)):\n",
    "            if message[i] == alf[j]:\n",
    "                val_mes_i = j\n",
    "                break\n",
    "        for k in range(len(alf)):\n",
    "            if cle[i_mod] == alf[k]:\n",
    "                val_cle_i = k\n",
    "                break\n",
    "        l = (j+k) % (len(alf))\n",
    "        sortie += alf[l]\n",
    "    return sortie\n",
    "\n",
    "\n",
    "print(vigenere(\"fac\", \"texte\"))\n",
    "\n",
    "\n"
   ]
  },
  {
   "cell_type": "code",
   "execution_count": 12,
   "id": "a30c82b2-42a5-4ba8-ac95-b2c561096aab",
   "metadata": {},
   "outputs": [
    {
     "name": "stdout",
     "output_type": "stream",
     "text": [
      "['oyou']\n"
     ]
    }
   ],
   "source": [
    "def extraction(L):\n",
    "    L2=[]\n",
    "    for x in L: \n",
    "        if x[1]== \"y\":\n",
    "            L2.append(x)\n",
    "    return L2\n",
    "\n",
    "\n",
    "L=[\"oyou\",\"abc\"]\n",
    "print(extraction(L))\n",
    "    "
   ]
  },
  {
   "cell_type": "code",
   "execution_count": null,
   "id": "9f3ea0be-f94a-419e-84fc-aae44f797ce5",
   "metadata": {},
   "outputs": [],
   "source": []
  }
 ],
 "metadata": {
  "kernelspec": {
   "display_name": "Python 3 (ipykernel)",
   "language": "python",
   "name": "python3"
  },
  "language_info": {
   "codemirror_mode": {
    "name": "ipython",
    "version": 3
   },
   "file_extension": ".py",
   "mimetype": "text/x-python",
   "name": "python",
   "nbconvert_exporter": "python",
   "pygments_lexer": "ipython3",
   "version": "3.13.7"
  }
 },
 "nbformat": 4,
 "nbformat_minor": 5
}
