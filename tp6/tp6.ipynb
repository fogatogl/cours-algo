{
 "cells": [
  {
   "cell_type": "code",
   "execution_count": 13,
   "id": "2a662684-251a-4e87-89fa-857d4739e1f4",
   "metadata": {},
   "outputs": [
    {
     "name": "stderr",
     "output_type": "stream",
     "text": [
      "<>:10: SyntaxWarning: invalid escape sequence '\\^'\n",
      "<>:10: SyntaxWarning: invalid escape sequence '\\^'\n",
      "/tmp/ipykernel_1154/1017202855.py:10: SyntaxWarning: invalid escape sequence '\\^'\n",
      "  (ex. \\^ recherche \"^\")\n"
     ]
    },
    {
     "data": {
      "text/plain": [
       "'\\nMetacaractère:\\n    - [] liste\\n    - [a] correspond à \"a\"\\n\\nEchappement: \\npermet de rechercher un métacaractère\\n(ex. \\\\^ recherche \"^\")\\n\\nNégation: (^)\\nOn peut exclure des métacaractères\\n(ex.[^a-z A-Z] exclut lettres)\\n\\nRepetition:\\n    - ?: O ou 1 fois\\n    - on peut preciser la répétion avec des bornes (ex. a{2, 5} -->match \"aa\", ..., \"aaaaa\")\\n\\nJocker:\\n    - . :remplace tout caractère\\n\\nDébut:\\n    - ^ hors d\\'une liste indique le début d\\'une ligne\\n\\nGroupes:\\non forme des groupes avec des parenthèses\\non peut ensuite récupérer les groupes dans des variables dédiées pour les traiter, etc\\n\\nvoir cours pour détails\\n\\n\\n\\nRaccourcis:\\n\\n    - \\\\d : [0-9]\\n    - \\\\D : [^0-9]\\n    - \\\\w : [a-z A-Z 0-9] ASCII restreint\\n    - \\\\W : [^a-z A-Z 0-9] ne contient pas alphanumerique\\n    - \\t : tabulation\\n    - \\\\s : caractères blancs\\n    - \\n : retour à la ligne\\n    - \\\\S : caractères non blancs\\n'"
      ]
     },
     "execution_count": 13,
     "metadata": {},
     "output_type": "execute_result"
    }
   ],
   "source": [
    "#EXPRESSIONS REGULIERES\n",
    "\n",
    "\"\"\"\n",
    "Metacaractère:\n",
    "    - [] liste\n",
    "    - [a] correspond à \"a\"\n",
    "\n",
    "Echappement: \n",
    "permet de rechercher un métacaractère\n",
    "(ex. \\^ recherche \"^\")\n",
    "\n",
    "Négation: (^)\n",
    "On peut exclure des métacaractères\n",
    "(ex.[^a-z A-Z] exclut lettres)\n",
    "\n",
    "Repetition:\n",
    "    - ?: O ou 1 fois\n",
    "    - on peut preciser la répétion avec des bornes (ex. a{2, 5} -->match \"aa\", ..., \"aaaaa\")\n",
    "\n",
    "Jocker:\n",
    "    - . :remplace tout caractère\n",
    "\n",
    "Début:\n",
    "    - ^ hors d'une liste indique le début d'une ligne\n",
    "\n",
    "Groupes:\n",
    "on forme des groupes avec des parenthèses\n",
    "on peut ensuite récupérer les groupes dans des variables dédiées pour les traiter, etc\n",
    "\n",
    "voir cours pour détails\n",
    "\n",
    "\n",
    "\n",
    "Raccourcis:\n",
    "\n",
    "    - \\d : [0-9]\n",
    "    - \\D : [^0-9]\n",
    "    - \\w : [a-z A-Z 0-9] ASCII restreint\n",
    "    - \\W : [^a-z A-Z 0-9] ne contient pas alphanumerique\n",
    "    - \\t : tabulation\n",
    "    - \\s : caractères blancs\n",
    "    - \\n : retour à la ligne\n",
    "    - \\S : caractères non blancs\n",
    "\"\"\"\n"
   ]
  },
  {
   "cell_type": "code",
   "execution_count": 15,
   "id": "9414232c-01c7-4e31-8da0-0d1705b0e5cf",
   "metadata": {},
   "outputs": [
    {
     "data": {
      "text/html": [
       "\n",
       "        <iframe\n",
       "            width=\"1000\"\n",
       "            height=\"600\"\n",
       "            src=\"https://en.wikipedia.org/wiki/Regular_expression#Basic_concepts\"\n",
       "            frameborder=\"0\"\n",
       "            allowfullscreen\n",
       "            \n",
       "        ></iframe>\n",
       "        "
      ],
      "text/plain": [
       "<IPython.lib.display.IFrame at 0x7ff7ec1d4f30>"
      ]
     },
     "execution_count": 15,
     "metadata": {},
     "output_type": "execute_result"
    }
   ],
   "source": [
    "from IPython.display import IFrame\n",
    "\n",
    "url = \"https://en.wikipedia.org/wiki/Regular_expression#Basic_concepts\"\n",
    "IFrame(url, width=1000, height=600)"
   ]
  },
  {
   "cell_type": "code",
   "execution_count": null,
   "id": "4a094bc6-0017-44ce-a12b-6b3024f5f088",
   "metadata": {},
   "outputs": [],
   "source": [
    "#Exercice\n",
    "\"\"\"\n",
    "^bio.*\n",
    "\n",
    "[a-z A-Z]{4}\n",
    "\n",
    "^#[a-z A-Z]{1,}\n",
    "\n",
    "\"\"\""
   ]
  },
  {
   "cell_type": "code",
   "execution_count": 6,
   "id": "ff6152a4-f2cd-474a-a9df-690ed7174e15",
   "metadata": {},
   "outputs": [
    {
     "data": {
      "text/plain": [
       "True"
      ]
     },
     "execution_count": 6,
     "metadata": {},
     "output_type": "execute_result"
    }
   ],
   "source": [
    "#Implémentation; libraire re\n",
    "import re\n",
    "\n",
    "ex_Tbio = \"biologie\"\n",
    "ex_Fbio = \"chien\"\n",
    "\n",
    "ex_T4 = \"toto\"\n",
    "ex_F4 = \"lugubre\"\n",
    "\n",
    "ex_Thas = \"#banana\"\n",
    "ex_Fhas = \"ok\"\n",
    "\n",
    "test_bio = re.compile(\"^bio\")\n",
    "\n",
    "test_4 = re.compile(\"[a-z A-Z]{4}\")\n",
    "\n",
    "test_has = re.compile(\"^#[a-z A-Z]+\")\n",
    "\n",
    "result1 = [test_bio.match(ex_Tbio),test_bio.match(ex_Fbio)] \n",
    "\n"
   ]
  },
  {
   "cell_type": "code",
   "execution_count": 7,
   "id": "34df32dc-7eaa-4cbd-b50b-c232224623d0",
   "metadata": {},
   "outputs": [
    {
     "data": {
      "text/html": [
       "\n",
       "        <iframe\n",
       "            width=\"800\"\n",
       "            height=\"400\"\n",
       "            src=\"https://docs.python.org/3/library/re.html#search-vs-match\"\n",
       "            frameborder=\"0\"\n",
       "            allowfullscreen\n",
       "            \n",
       "        ></iframe>\n",
       "        "
      ],
      "text/plain": [
       "<IPython.lib.display.IFrame at 0x7ff7ec3a7380>"
      ]
     },
     "execution_count": 7,
     "metadata": {},
     "output_type": "execute_result"
    }
   ],
   "source": [
    "#Recherche lazy - speedy\n",
    "\n",
    "from IPython.display import IFrame\n",
    "\n",
    "url = \"https://docs.python.org/3/library/re.html#search-vs-match\"\n",
    "IFrame(url, width=800, height=400)\n"
   ]
  },
  {
   "cell_type": "code",
   "execution_count": null,
   "id": "4f843713-6397-4ca7-8f0b-33401adfa56d",
   "metadata": {},
   "outputs": [],
   "source": [
    "texte = \"je sus né le 01/02/1970\"\n",
    "\n",
    "tester = \"[0-9]{2]\\/[0-9]\\/[0-9]{4}\""
   ]
  },
  {
   "cell_type": "code",
   "execution_count": 18,
   "id": "39e98273-6f44-40a1-996a-77cdbcd4f861",
   "metadata": {},
   "outputs": [
    {
     "data": {
      "text/plain": [
       "[('user', 'alice'), ('id', '50'), ('email', 'alice@example')]"
      ]
     },
     "execution_count": 18,
     "metadata": {},
     "output_type": "execute_result"
    }
   ],
   "source": [
    "texte = \"user:alice id:50 email:alice@example.com\"\n",
    "tester = r\"(\\w+):([\\w@]+)\"\n",
    "m = re.findall(tester, texte)\n",
    "m"
   ]
  },
  {
   "cell_type": "code",
   "execution_count": 22,
   "id": "85b13be2-06c4-4f08-905d-fd07d567535b",
   "metadata": {},
   "outputs": [
    {
     "data": {
      "text/plain": [
       "['baba.fr@ensae.com']"
      ]
     },
     "execution_count": 22,
     "metadata": {},
     "output_type": "execute_result"
    }
   ],
   "source": [
    "tesss = \"baba.fr@ensae.com\"\n",
    "\n",
    "emailtest = r\"[^@ ]+@\\w+.\\w+\"\n",
    "\n",
    "re.findall(emailtest, tesss)"
   ]
  },
  {
   "cell_type": "code",
   "execution_count": null,
   "id": "1f428428-f3f7-421e-982c-c50e3971c9c4",
   "metadata": {},
   "outputs": [],
   "source": []
  }
 ],
 "metadata": {
  "kernelspec": {
   "display_name": "Python 3 (ipykernel)",
   "language": "python",
   "name": "python3"
  },
  "language_info": {
   "codemirror_mode": {
    "name": "ipython",
    "version": 3
   },
   "file_extension": ".py",
   "mimetype": "text/x-python",
   "name": "python",
   "nbconvert_exporter": "python",
   "pygments_lexer": "ipython3",
   "version": "3.13.7"
  }
 },
 "nbformat": 4,
 "nbformat_minor": 5
}
