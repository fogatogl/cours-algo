{
 "cells": [
  {
   "cell_type": "code",
   "execution_count": null,
   "id": "2e9569c4-8587-4d57-b0b5-ca214ed7eb01",
   "metadata": {},
   "outputs": [],
   "source": [
    "#GRAPHES\n",
    "\"\"\"\n",
    "Def:\n",
    "Un graphe est un couple G = (S,A) où A est l'ensemble des aretes, S l'ensemble des sommets\n",
    "\n",
    "Proposition:\n",
    "Soit G = (S, A) un graphe.\n",
    "sum(s in S):deg(s) = 2 Card(A)\n",
    "\n",
    "\"\"\"\n",
    "\n"
   ]
  },
  {
   "cell_type": "code",
   "execution_count": 6,
   "id": "6cf4db2b-6a9a-4028-bd4d-8e44b73a5353",
   "metadata": {},
   "outputs": [
    {
     "name": "stdout",
     "output_type": "stream",
     "text": [
      "[5, 1, 2]\n"
     ]
    }
   ],
   "source": [
    "#impelementation arbre\n",
    "\n",
    "T = {1: (None, [2, 3]), 2:(1, [4,5,6]),3:(1, [7]), 4:(2, []), 5:(2, []), 6:(2, []), 7: (3, [8, 9]), 8:(7, []), 8:(7, [])}\n",
    "\n",
    "\n",
    "def inserer_gauche(L, x):\n",
    "    L_new = [x]\n",
    "    L.reverse()\n",
    "    while L != []:\n",
    "        L_new.append(L.pop())\n",
    "    return L_new\n",
    "\n",
    "print(inserer_gauche([1, 2], 5))\n",
    "    "
   ]
  },
  {
   "cell_type": "code",
   "execution_count": null,
   "id": "f556e12a-2fc0-4e6a-b9ad-c4fab0f2f7f1",
   "metadata": {},
   "outputs": [],
   "source": [
    "from collections import dequeue\n",
    "\n",
    "def parcours_largeur(G, y):\n",
    "    vus = [False *len(G)]\n",
    "    a_voir = dequeue()\n",
    "    a_voir.append(y)\n",
    "    visites = []\n",
    "    while a_voir != []:\n",
    "        x = a_voir.pop()\n",
    "        if not vus[x]:\n",
    "            visites.append(x)\n",
    "            vus[x] = True\n",
    "            for vois in G[x]:\n",
    "                if G[x][vois]:\n",
    "                    a_voir.appendleft(vois)\n",
    "    return visites\n",
    "            \n",
    "\n",
    "def parcours_profondeur(G, y):\n",
    "    vus = [False *len(G)]\n",
    "    a_voir = dequeue()\n",
    "    a_voir.append(y)\n",
    "    visites = []\n",
    "    while a_voir != []:\n",
    "        x = a_voir.pop()\n",
    "        if not vus[x]:\n",
    "            visites.append(x)\n",
    "            vus[x] = True\n",
    "            for vois in G[x]:\n",
    "                a_voir.append(vois)\n",
    "    return visites\n",
    "            \n",
    "    "
   ]
  }
 ],
 "metadata": {
  "kernelspec": {
   "display_name": "Python 3 (ipykernel)",
   "language": "python",
   "name": "python3"
  },
  "language_info": {
   "codemirror_mode": {
    "name": "ipython",
    "version": 3
   },
   "file_extension": ".py",
   "mimetype": "text/x-python",
   "name": "python",
   "nbconvert_exporter": "python",
   "pygments_lexer": "ipython3",
   "version": "3.13.7"
  }
 },
 "nbformat": 4,
 "nbformat_minor": 5
}
